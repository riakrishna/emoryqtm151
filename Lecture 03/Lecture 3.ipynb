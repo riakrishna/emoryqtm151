{
 "cells": [
  {
   "attachments": {},
   "cell_type": "markdown",
   "metadata": {},
   "source": [
    "# <span style=\"color:darkblue\"> Lecture 3: Mathematical Operations and Random Numbers </span>"
   ]
  },
  {
   "attachments": {},
   "cell_type": "markdown",
   "metadata": {},
   "source": [
    "<font size=\"5\"> \n",
    "\n",
    "In the previous class we:\n",
    "- Introduced lists and variable types\n",
    "- Talked about how to extract elements from a list"
   ]
  },
  {
   "attachments": {},
   "cell_type": "markdown",
   "metadata": {},
   "source": [
    "<font size=\"5\"> \n",
    "\n",
    "In this class we will:\n",
    "\n",
    "- Introduce a library for general mathematical operations\n",
    "- Generate random numbers\n",
    "- (Optional) Matrix operations"
   ]
  },
  {
   "attachments": {},
   "cell_type": "markdown",
   "metadata": {},
   "source": [
    "## <span style=\"color:darkblue\"> I. Import Libraries </span>"
   ]
  },
  {
   "cell_type": "code",
   "execution_count": 2,
   "metadata": {},
   "outputs": [],
   "source": [
    "# the \"numPy\" library is used for mathematical operations\n",
    "# the \"matplotlib\" library is for generating graphs\n",
    "\n",
    "import numpy as np\n",
    "import matplotlib.pyplot as plt\n"
   ]
  },
  {
   "attachments": {},
   "cell_type": "markdown",
   "metadata": {},
   "source": [
    "##  <span style=\"color:darkblue\"> II. Numbers and Functions </span>"
   ]
  },
  {
   "attachments": {},
   "cell_type": "markdown",
   "metadata": {},
   "source": [
    "<font size = \"5\" >\n",
    "Examples of numPy numbers"
   ]
  },
  {
   "cell_type": "code",
<<<<<<< HEAD
   "execution_count": 2,
=======
   "execution_count": 3,
>>>>>>> upstream/main
   "metadata": {},
   "outputs": [
    {
     "data": {
      "text/plain": [
       "3.141592653589793"
      ]
     },
<<<<<<< HEAD
     "execution_count": 2,
=======
     "execution_count": 3,
>>>>>>> upstream/main
     "metadata": {},
     "output_type": "execute_result"
    }
   ],
   "source": [
    "# Computes \"pi\" (3.14...)\n",
    "\n",
    "np.pi"
   ]
  },
  {
   "attachments": {},
   "cell_type": "markdown",
   "metadata": {},
   "source": [
    "<font size = \"5\" >\n",
    "\n",
    "Examples of numPy functions\n",
    "\n",
    "$ ln(x), e^x, sin(x), cos(x), \\sqrt{x}$"
   ]
  },
  {
   "cell_type": "code",
   "execution_count": 4,
   "metadata": {},
   "outputs": [
    {
     "name": "stdout",
     "output_type": "stream",
     "text": [
      "0.0\n",
      "2.718281828459045\n",
      "0.8414709848078965\n",
      "0.5403023058681398\n",
      "1.0\n"
     ]
    }
   ],
   "source": [
    "# log(x) computes the logarithm with base \"e\" (Euler constant)\n",
    "# exp(x) compute the Euler constant raised to the power of \"x\"\n",
    "# sing(x) computes the sine of x\n",
    "# cos(x) computes the cosine of x\n",
    "# In this example, we're substituting x = 1\n",
    "\n",
    "print(np.log(1))\n",
    "print(np.exp(1))\n",
    "print(np.sin(1))\n",
    "print(np.cos(1))\n",
    "print(np.sqrt(1))"
   ]
  },
  {
   "attachments": {},
   "cell_type": "markdown",
   "metadata": {},
   "source": [
    "<font size = \"5\">\n",
    "\n",
    "Try it yourself!\n",
    "\n",
    "- Create a new variable, $x = 5$\n",
    "- Compute $\\pi x^2$\n",
    "- Compute $ \\frac{1}{\\sqrt{2\\pi}}e^{-x^2} $"
   ]
  },
  {
   "cell_type": "code",
<<<<<<< HEAD
   "execution_count": 8,
=======
   "execution_count": 5,
>>>>>>> upstream/main
   "metadata": {},
   "outputs": [
    {
     "data": {
      "text/plain": [
       "1.084995614450314e-06"
      ]
     },
     "execution_count": 8,
     "metadata": {},
     "output_type": "execute_result"
    }
   ],
   "source": [
    "# Include your answer here:\n",
    "x = 5\n",
    "(x**4) + np.sin(x)**2\n",
    "(x**7) / (np.exp(x**2))\n",
    "\n",
    "\n",
    "\n",
    "\n",
    "\n"
   ]
  },
  {
   "attachments": {},
   "cell_type": "markdown",
   "metadata": {},
   "source": [
    "##  <span style=\"color:darkblue\"> III. Vector Arrays </span>"
   ]
  },
  {
   "attachments": {},
   "cell_type": "markdown",
   "metadata": {},
   "source": [
    "<font size = \"5\">\n",
    "Create an array from a list\n",
    "\n",
    "$ \\text{ }$\n",
    "$ a = \\begin{pmatrix} 1 \\\\ 2 \\\\ 3 \\end{pmatrix}\n",
    "\\qquad b = \\begin{pmatrix} 0 \\\\ 1 \\\\ 0\\end{pmatrix}\n",
    "\\qquad c = \\begin{pmatrix} 10 \\\\ 100 \\\\ 1000 \\\\ 2000 \\\\ 5000 \\end{pmatrix} \n",
    "\\qquad d = \\begin{pmatrix} 4 \\\\ 2 \\end{pmatrix} $"
   ]
  },
  {
   "cell_type": "code",
<<<<<<< HEAD
   "execution_count": 10,
=======
   "execution_count": 7,
>>>>>>> upstream/main
   "metadata": {},
   "outputs": [],
   "source": [
    "# You create an array by converting a list [1,2,3] to a numeric object\n",
    "# \"array\" is a subfunction of the library numPy.\n",
    "\n",
    "vec_a  = np.array([1,2,3])\n",
    "vec_b  = np.array([0,1,0])\n",
    "vec_c  = np.array([10,100,1000,2000,5000])\n"
   ]
  },
  {
   "attachments": {},
   "cell_type": "markdown",
   "metadata": {},
   "source": [
    "<font size = \"5\">\n",
    "\n",
    "Accessing an element of an array"
   ]
  },
  {
   "cell_type": "code",
<<<<<<< HEAD
   "execution_count": 11,
=======
   "execution_count": 8,
>>>>>>> upstream/main
   "metadata": {},
   "outputs": [
    {
     "name": "stdout",
     "output_type": "stream",
     "text": [
      "1\n",
      "2\n",
      "3\n"
     ]
    }
   ],
   "source": [
    "# Arrays, like lists, start their numbering at zero.\n",
    "# You also access them with square brackets\n",
    "\n",
    "print(vec_a[0])\n",
    "print(vec_a[1])\n",
    "print(vec_a[2])\n"
   ]
  },
  {
   "attachments": {},
   "cell_type": "markdown",
   "metadata": {},
   "source": [
    "<font size = \"5\">\n",
    "Operations with a single array and a scalar"
   ]
  },
  {
   "attachments": {},
   "cell_type": "markdown",
   "metadata": {},
   "source": [
    "<font size = \"5\">\n",
    "\n",
    "$ a + 2 = \\begin{pmatrix} a_1 + 2 \\\\ a_2 + 2 \\\\ a_3 + 2 \\end{pmatrix}$"
   ]
  },
  {
   "cell_type": "code",
<<<<<<< HEAD
   "execution_count": 12,
=======
   "execution_count": 9,
>>>>>>> upstream/main
   "metadata": {},
   "outputs": [
    {
     "name": "stdout",
     "output_type": "stream",
     "text": [
      "[2 4 6]\n",
      "[0.5 1.  1.5]\n",
      "[3 4 5]\n",
      "[1 4 9]\n"
     ]
    }
   ],
   "source": [
    "# A scalar refers to either an int or float\n",
    "# We can do many common operations with \n",
    "\n",
    "print(vec_a * 2)\n",
    "print(vec_a / 2)\n",
    "print(vec_a + 2)\n",
    "print(vec_a ** 2)"
   ]
  },
  {
   "attachments": {},
   "cell_type": "markdown",
   "metadata": {},
   "source": [
    "<font size = \"5\">\n",
    "Element-by-element addition between two arrays of the same size\n",
    "\n",
    "$\\text{ }$\n",
    "\n",
    "$ a + b = \\begin{pmatrix} a_1 \\\\ a_2 \\\\ a_3 \\end{pmatrix} +\n",
    "          \\begin{pmatrix} b_1 \\\\ b_2 \\\\ b_3 \\end{pmatrix} =\n",
    "          \\begin{pmatrix} a_1 + b_1 \\\\ a_2 + b_2 \\\\ a_3 + b_3 \\end{pmatrix}$"
   ]
  },
  {
   "cell_type": "code",
<<<<<<< HEAD
   "execution_count": 13,
=======
   "execution_count": 10,
>>>>>>> upstream/main
   "metadata": {},
   "outputs": [
    {
     "name": "stdout",
     "output_type": "stream",
     "text": [
      "[1 3 3]\n"
     ]
    }
   ],
   "source": [
    "# When you add two arrays of the same size,\n",
    "# Python adds the individual elements in each position\n",
    "\n",
    "print(vec_a + vec_b)\n"
   ]
  },
  {
   "attachments": {},
   "cell_type": "markdown",
   "metadata": {},
   "source": [
    "<font size =\"5\">\n",
    "\n",
    "The default multiplication option is element-by element:\n",
    "\n",
    "$ a * b = \\begin{pmatrix} a_1 * b_1 \\\\ a_2 * b_2 \\\\ a_3 * b_3 \\end{pmatrix}$"
   ]
  },
  {
   "cell_type": "code",
<<<<<<< HEAD
   "execution_count": 14,
=======
   "execution_count": 11,
>>>>>>> upstream/main
   "metadata": {},
   "outputs": [
    {
     "name": "stdout",
     "output_type": "stream",
     "text": [
      "[0 2 0]\n",
      "[1 1 3]\n",
      "[inf  2. inf]\n",
      "2\n"
     ]
    },
    {
     "name": "stderr",
     "output_type": "stream",
     "text": [
<<<<<<< HEAD
      "/var/folders/26/10wpws5n74qc9cw21s7rj26m0000gp/T/ipykernel_13913/1602822874.py:6: RuntimeWarning: divide by zero encountered in divide\n",
=======
      "/var/folders/1b/jzb9ndz97b5260fzr9d8kzyh5f7xd6/T/ipykernel_59016/3839639845.py:6: RuntimeWarning: divide by zero encountered in true_divide\n",
>>>>>>> upstream/main
      "  print(vec_a / vec_b)\n"
     ]
    }
   ],
   "source": [
    "# We can do other similar element-by-element operations\n",
    "# such as multiplication, subtraction, and division.\n",
    "\n",
    "print(vec_a * vec_b)\n",
    "print(vec_a - vec_b)\n",
<<<<<<< HEAD
    "print(vec_a / vec_b)\n",
    "\n",
    "print(np.dot(vec_a, vec_b))\n"
=======
    "print(vec_a / vec_b)\n"
>>>>>>> upstream/main
   ]
  },
  {
   "attachments": {},
   "cell_type": "markdown",
   "metadata": {},
   "source": [
    "<font size = \"5\">\n",
    "Summary statistics of an array"
   ]
  },
  {
   "cell_type": "code",
<<<<<<< HEAD
   "execution_count": 15,
=======
   "execution_count": 12,
>>>>>>> upstream/main
   "metadata": {},
   "outputs": [
    {
     "name": "stdout",
     "output_type": "stream",
     "text": [
      "2.0\n",
      "0.816496580927726\n",
      "1\n",
      "2.0\n",
      "3\n"
     ]
    }
   ],
   "source": [
    "# The function np.mean() computes the mean of an array\n",
    "# We can do similar operations for the standard deviation (std),\n",
    "# the minimum (min), the median (median), and the maximum (max).\n",
    "\n",
    "print(np.mean(vec_a))\n",
    "print(np.std(vec_a))\n",
    "print(np.min(vec_a))\n",
    "print(np.median(vec_a))\n",
    "print(np.max(vec_a))"
   ]
  },
  {
   "attachments": {},
   "cell_type": "markdown",
   "metadata": {},
   "source": [
    "<font size = \"5\">\n",
    "\n",
    "Try it yourself! Compute the mean of\n",
    "\n",
    "\n",
    "$ e = \\begin{pmatrix} 10 \\\\ 8 \\\\ 15 \\\\ 0 \\\\ 24 \\end{pmatrix} $"
   ]
  },
  {
   "cell_type": "code",
   "execution_count": 17,
   "metadata": {},
   "outputs": [
    {
     "data": {
      "text/plain": [
       "44"
      ]
     },
     "execution_count": 17,
     "metadata": {},
     "output_type": "execute_result"
    }
   ],
   "source": [
    "# Create your own array and compute any of the above summary statistics\n",
    "vec_e = np.array([10,8,15,0,24])\n",
    "vec_e.mean()\n",
    "\n",
    "vec_f = np.array([19,44,7,42])\n",
    "vec_f.max()\n",
    "\n",
    "\n",
    "\n",
    "\n"
   ]
  },
  {
   "attachments": {},
   "cell_type": "markdown",
   "metadata": {},
   "source": [
    "<font size = \"5\">\n",
    "<span style=\"color:red\"> Common Pitfall </span>: Make sure that the arrays have the same size"
   ]
  },
  {
   "cell_type": "code",
<<<<<<< HEAD
   "execution_count": 18,
=======
   "execution_count": 14,
>>>>>>> upstream/main
   "metadata": {},
   "outputs": [
    {
     "ename": "ValueError",
     "evalue": "operands could not be broadcast together with shapes (3,) (5,) ",
     "output_type": "error",
     "traceback": [
      "\u001b[0;31m---------------------------------------------------------------------------\u001b[0m",
      "\u001b[0;31mValueError\u001b[0m                                Traceback (most recent call last)",
<<<<<<< HEAD
      "Cell \u001b[0;32mIn[18], line 3\u001b[0m\n\u001b[1;32m      1\u001b[0m \u001b[39m# Here I try to combine two arrays of different size.\u001b[39;00m\n\u001b[0;32m----> 3\u001b[0m vec_a \u001b[39m+\u001b[39;49m vec_c\n",
=======
      "Cell \u001b[0;32mIn[14], line 3\u001b[0m\n\u001b[1;32m      1\u001b[0m \u001b[39m# Here I try to combine two arrays of different size.\u001b[39;00m\n\u001b[0;32m----> 3\u001b[0m vec_a \u001b[39m+\u001b[39;49m vec_c\n",
>>>>>>> upstream/main
      "\u001b[0;31mValueError\u001b[0m: operands could not be broadcast together with shapes (3,) (5,) "
     ]
    }
   ],
   "source": [
    "# Here I try to combine two arrays of different size.\n",
    "\n",
    "vec_a + vec_c"
   ]
  },
  {
   "attachments": {},
   "cell_type": "markdown",
   "metadata": {},
   "source": [
    "##  <span style=\"color:darkblue\"> IV. Random Numbers </span>\n",
    "\n",
    "<font size = \"5\">\n",
    "\n",
    "Why randomness?\n",
    "\n",
    "- Simulate different scenarios: high risk or low risk\n",
    "- Study properties of a complex system and/or estimator\n",
    "- In medicine, randomly assign subjects to treatment or control"
   ]
  },
  {
   "attachments": {},
   "cell_type": "markdown",
   "metadata": {},
   "source": [
    "<font size = \"5\">\n",
    "\n",
    "Create a vector of random variables"
   ]
  },
  {
   "cell_type": "code",
<<<<<<< HEAD
   "execution_count": 21,
=======
   "execution_count": 15,
>>>>>>> upstream/main
   "metadata": {},
   "outputs": [
    {
     "name": "stdout",
     "output_type": "stream",
     "text": [
<<<<<<< HEAD
      "[ 1.19249135  0.46776562 -1.38087126 -1.05531976  1.8667472  -1.21892489\n",
      "  1.18870993  1.43178196  1.01316133 -0.90688862]\n"
=======
      "[-0.64265744 -1.24067156 -1.03884266  0.0069859  -0.03245425  0.31636014\n",
      " -0.68259118  1.11243663  1.42242021  0.24775057]\n"
>>>>>>> upstream/main
     ]
    }
   ],
   "source": [
    "# This code creates a vector of random variables \n",
    "# generated from a normal distribution with\n",
    "# mean \"loc\" (location) and standard deviation \"scale\"\n",
    "# the number of distinct variabels is \"size\"\n",
    "\n",
    "randomvar_a = np.random.normal(loc=0, scale=1, size=10)\n",
    "print(randomvar_a)"
   ]
  },
  {
   "attachments": {},
   "cell_type": "markdown",
   "metadata": {},
   "source": [
    "<font size = \"5\">\n",
    "\n",
    "Random numbers differ every time!\n",
    "\n",
    "- Avoid this problem by drawing from a \"pregenerated\" set.\n",
    "- This is called a seed"
   ]
  },
  {
   "cell_type": "code",
<<<<<<< HEAD
   "execution_count": 23,
=======
   "execution_count": 16,
>>>>>>> upstream/main
   "metadata": {},
   "outputs": [
    {
     "name": "stdout",
     "output_type": "stream",
     "text": [
      "[ 0.47143516 -1.19097569  1.43270697 -0.3126519  -0.72058873  0.88716294\n",
      "  0.85958841 -0.6365235   0.01569637 -2.24268495]\n"
     ]
    }
   ],
   "source": [
    "# Your computer will typically generate different numbers every time you run a command\n",
    "# However, sometimes you want to be able to replicate the results\n",
    "# You can choose any other number instead of \"12345\". This will produce another set\n",
    "# of random numbers, but they will give the same answers\n",
    "\n",
    "np.random.seed(1234)\n",
    "\n",
    "random_var_b = np.random.normal(loc=0, scale=1, size=10)\n",
    "print(random_var_b)"
   ]
  },
  {
   "attachments": {},
   "cell_type": "markdown",
   "metadata": {},
   "source": [
    "<font size = \"5\">\n",
    "\n",
    "Compute a histogram with the results"
   ]
  },
  {
   "cell_type": "code",
<<<<<<< HEAD
   "execution_count": 28,
=======
   "execution_count": 22,
>>>>>>> upstream/main
   "metadata": {},
   "outputs": [
    {
     "data": {
      "text/plain": [
       "Text(0, 0.5, 'Frequency')"
      ]
     },
<<<<<<< HEAD
     "execution_count": 28,
=======
     "execution_count": 22,
>>>>>>> upstream/main
     "metadata": {},
     "output_type": "execute_result"
    },
    {
     "data": {
<<<<<<< HEAD
      "image/png": "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",
=======
      "image/png": "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",
>>>>>>> upstream/main
      "text/plain": [
       "<Figure size 640x480 with 1 Axes>"
      ]
     },
     "metadata": {},
     "output_type": "display_data"
    }
   ],
   "source": [
    "# Compute a histogram\n",
    "# You can edit the number of bins with plt.hist(x = randomvar_a)\n",
    "\n",
    "randomvar_x = np.random.normal(loc=0, scale=1, size=10000)\n",
    "\n",
    "plt.hist(x = randomvar_x)\n",
    "plt.xlabel(\"Variable a\")\n",
    "plt.ylabel(\"Frequency\")"
   ]
  },
  {
   "attachments": {},
   "cell_type": "markdown",
   "metadata": {},
   "source": [
    "<font size = \"5\">\n",
    "\n",
    "Try this again with $size = 100, 1000, 10000$"
   ]
  },
  {
   "cell_type": "code",
   "execution_count": 17,
   "metadata": {},
   "outputs": [],
   "source": [
    "# Write the code for your histogram\n",
    "\n",
    "\n",
    "\n"
   ]
  },
  {
   "attachments": {},
   "cell_type": "markdown",
   "metadata": {},
   "source": [
    "# <span style=\"color:darkblue\"> Additional Resources </span>\n",
    "\n",
    "<font size=\"5\"> \n",
    "\n",
    "Check out additional examples at:\n",
    "\n",
    "- https://allendowney.github.io/ElementsOfDataScience/03_arrays.html\n",
    "\n",
    "\n"
   ]
  },
  {
   "attachments": {},
   "cell_type": "markdown",
   "metadata": {},
   "source": [
    "# <span style=\"color:darkblue\"> (Optional) Matrix Operations </span>\n",
    "\n",
    "<font size=\"5\"> \n"
   ]
  },
  {
   "attachments": {},
   "cell_type": "markdown",
   "metadata": {},
   "source": [
    "<font size = \"5\">\n",
    "Creating a matrix by stacking different rows\n",
    "\n",
    "$ \\text{ }$\n",
    "\n",
    "$ X = \\begin{pmatrix} 1 & 2 & 3 \\\\ \n",
    "                       0 & 4 & 5 \\\\\n",
    "                       0 & 0 & 6\n",
    "                       \\end{pmatrix} $"
   ]
  },
  {
   "cell_type": "code",
<<<<<<< HEAD
   "execution_count": 29,
=======
   "execution_count": 13,
>>>>>>> upstream/main
   "metadata": {},
   "outputs": [
    {
     "name": "stdout",
     "output_type": "stream",
     "text": [
      "[[1 2 3]\n",
      " [0 4 5]\n",
      " [0 0 6]]\n"
     ]
    }
   ],
   "source": [
    "# Matrices are usually denoted by capital letters\n",
    "# The object [[1,2,3],[4,5,6],[7,8,9]] is a list of lists\n",
    "# It's useful to maintain this notation in the code as well\n",
    "\n",
    "X = np.array([[1,2,3],[0,4,5],[0,0,6]])\n",
    "print(X)"
   ]
  },
  {
   "attachments": {},
   "cell_type": "markdown",
   "metadata": {},
   "source": [
    "<font size = \"5\">\n",
    "Creating a matrix by stacking different columns\n",
    "\n",
    "$ \\text{ } $\n",
    "\n",
    "$ Y = \\begin{pmatrix} 1 & 2 \\\\ 0 & 1 \\\\ 1 & 0 \\end{pmatrix}$"
   ]
  },
  {
   "cell_type": "code",
<<<<<<< HEAD
   "execution_count": 31,
=======
   "execution_count": 14,
>>>>>>> upstream/main
   "metadata": {},
   "outputs": [
    {
     "name": "stdout",
     "output_type": "stream",
     "text": [
      "[[1 2]\n",
      " [0 1]\n",
      " [1 0]]\n"
     ]
    }
   ],
   "source": [
    "# You can also stack columns\n",
    "Y =  np.column_stack([[1,0,1],[2,1,0]])\n",
    "print(Y)"
   ]
  },
  {
   "attachments": {},
   "cell_type": "markdown",
   "metadata": {},
   "source": [
    "<font size = \"5\">\n",
    "Transpose\n",
    "\n",
    "$ \\text{ }$\n",
    "\n",
    "$ Y' = \\begin{pmatrix}  1 & 0 & 1 \\\\ 2 & 1 & 0  \\end{pmatrix} $"
   ]
  },
  {
   "cell_type": "code",
<<<<<<< HEAD
   "execution_count": 32,
=======
   "execution_count": 15,
>>>>>>> upstream/main
   "metadata": {},
   "outputs": [
    {
     "data": {
      "text/plain": [
       "array([[1, 0, 1],\n",
       "       [2, 1, 0]])"
      ]
     },
<<<<<<< HEAD
     "execution_count": 32,
=======
     "execution_count": 15,
>>>>>>> upstream/main
     "metadata": {},
     "output_type": "execute_result"
    }
   ],
   "source": [
    "# Matrix Transpose\n",
    "np.matrix.transpose(Y)\n",
    "# another way of doing transpose\n",
    "Y.T"
   ]
  },
  {
   "attachments": {},
   "cell_type": "markdown",
   "metadata": {},
   "source": [
    "<font size = \"5\">\n",
    "\n",
    "Matrix multiplication\n",
    "\n",
    "$ XY = \\begin{pmatrix} 1 & 2 & 3 \\\\ \n",
    "                       0 & 4 & 5 \\\\\n",
    "                       0 & 0 & 6\n",
    "                       \\end{pmatrix}\n",
    "                       \\begin{pmatrix} 1 & 2 \\\\ 0 & 1 \\\\ 1 & 0 \\end{pmatrix} = \n",
    "        \\begin{pmatrix} 4 & 4 \\\\ 5 & 4 \\\\ 6 & 0 \\end{pmatrix} $"
   ]
  },
  {
   "cell_type": "code",
<<<<<<< HEAD
   "execution_count": 33,
=======
   "execution_count": 34,
>>>>>>> upstream/main
   "metadata": {},
   "outputs": [
    {
     "data": {
      "text/plain": [
<<<<<<< HEAD
       "array([[4, 2],\n",
=======
       "array([[4, 4],\n",
>>>>>>> upstream/main
       "       [5, 4],\n",
       "       [6, 0]])"
      ]
     },
<<<<<<< HEAD
     "execution_count": 33,
=======
     "execution_count": 34,
>>>>>>> upstream/main
     "metadata": {},
     "output_type": "execute_result"
    }
   ],
   "source": [
    "# Matrix Multiplication\n",
    "\n",
    "np.dot(X,Y)\n",
    "\n",
    "np.matmul(X,Y)"
   ]
  },
  {
   "attachments": {},
   "cell_type": "markdown",
   "metadata": {},
   "source": [
    "<font size = \"5\">\n",
    "\n",
    "Matrix inverse\n",
    "\n",
    "$ X^{-1} = \\begin{pmatrix} 1 & 2 & 3 \\\\ \n",
    "                       0 & 4 & 5 \\\\\n",
    "                       0 & 0 & 6\n",
    "                       \\end{pmatrix}^{-1} $"
   ]
  },
  {
   "cell_type": "code",
<<<<<<< HEAD
   "execution_count": 38,
=======
   "execution_count": 31,
>>>>>>> upstream/main
   "metadata": {},
   "outputs": [
    {
     "name": "stdout",
     "output_type": "stream",
     "text": [
      "23.999999999999993\n",
      "[[ 1.         -0.5        -0.08333333]\n",
      " [ 0.          0.25       -0.20833333]\n",
<<<<<<< HEAD
      " [ 0.          0.          0.16666667]]\n"
=======
      " [ 0.          0.          0.16666667]]\n",
      "[[ 1.00000000e+00  0.00000000e+00 -2.22044605e-16]\n",
      " [ 0.00000000e+00  1.00000000e+00  0.00000000e+00]\n",
      " [ 0.00000000e+00  0.00000000e+00  1.00000000e+00]]\n"
>>>>>>> upstream/main
     ]
    }
   ],
   "source": [
<<<<<<< HEAD
    "#check the determinant of a matrix\n",
    "print(np.linalg.det(X))\n",
=======
    "# Check the determinant of a matrix (a matrix is invertible if the determinant is not zero)\n",
    "print(np.linalg.det(X))\n",
    "\n",
>>>>>>> upstream/main
    "# Matrix inverse\n",
    "# The following command stands for linear algebrar inverse.\n",
    "X_inv = np.linalg.inv(X)\n",
    "\n",
<<<<<<< HEAD
    "print(X_inv)"
=======
    "# Output the result\n",
    "print(X_inv)\n"
>>>>>>> upstream/main
   ]
  },
  {
   "attachments": {},
   "cell_type": "markdown",
   "metadata": {},
   "source": [
    "<font size = \"5\">\n",
    "\n",
    "Try it yourself! Check that this is indeed an inverse:\n",
    "\n",
    "$X X_{inv} = \\begin{pmatrix} 1 & 0 & 0 \\\\ 0 & 1 & 0 \\\\ 0 & 0 & 1 \\end{pmatrix}$"
   ]
  },
  {
   "cell_type": "code",
<<<<<<< HEAD
   "execution_count": 39,
   "metadata": {},
   "outputs": [
    {
     "data": {
      "text/plain": [
       "array([[ 1.00000000e+00,  0.00000000e+00, -2.77555756e-17],\n",
       "       [ 0.00000000e+00,  1.00000000e+00,  2.77555756e-17],\n",
       "       [ 0.00000000e+00,  0.00000000e+00,  1.00000000e+00]])"
      ]
     },
     "execution_count": 39,
     "metadata": {},
     "output_type": "execute_result"
=======
   "execution_count": 32,
   "metadata": {},
   "outputs": [
    {
     "name": "stdout",
     "output_type": "stream",
     "text": [
      "[[ 1.00000000e+00  0.00000000e+00 -2.22044605e-16]\n",
      " [ 0.00000000e+00  1.00000000e+00  0.00000000e+00]\n",
      " [ 0.00000000e+00  0.00000000e+00  1.00000000e+00]]\n"
     ]
>>>>>>> upstream/main
    }
   ],
   "source": [
    "# Multiply \"X\" times \"X_inv\" using the command shown above\n",
<<<<<<< HEAD
    "np.matmul(X, X_inv)\n",
    "\n",
    "\n",
=======
    "# Note: Sometimes the result is shown in scientific notation.\n",
>>>>>>> upstream/main
    "\n",
    "\n",
    "\n"
   ]
  }
 ],
 "metadata": {
  "kernelspec": {
   "display_name": "base",
   "language": "python",
   "name": "python3"
  },
  "language_info": {
   "codemirror_mode": {
    "name": "ipython",
    "version": 3
   },
   "file_extension": ".py",
   "mimetype": "text/x-python",
   "name": "python",
   "nbconvert_exporter": "python",
   "pygments_lexer": "ipython3",
<<<<<<< HEAD
   "version": "3.11.1 (v3.11.1:a7a450f84a, Dec  6 2022, 15:24:06) [Clang 13.0.0 (clang-1300.0.29.30)]"
=======
   "version": "3.9.13 (main, Aug 25 2022, 18:29:29) \n[Clang 12.0.0 ]"
>>>>>>> upstream/main
  },
  "orig_nbformat": 4,
  "vscode": {
   "interpreter": {
    "hash": "45fc1f684f6f416f40889115beff3ddf69879b64cf4bfee48cb72a61e9d15d1a"
   }
  }
 },
 "nbformat": 4,
 "nbformat_minor": 2
}
