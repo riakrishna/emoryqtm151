{
 "cells": [
  {
   "attachments": {},
   "cell_type": "markdown",
   "metadata": {},
   "source": [
    "# <span style=\"color:darkblue\"> Lecture 7: Applications II - Operations with multiple datasets </span>"
   ]
  },
  {
   "attachments": {},
   "cell_type": "markdown",
   "metadata": {},
   "source": [
    "<font size=\"5\"> \n",
    "\n",
    "This class will be entirely self-directed\n",
    "\n",
    "- Learn basic commands for importing/exporting datasets\n",
    "- Practice this module's concepts in a quiz\n",
    "- More info will be posted on Canvas at the start of class\n"
   ]
  },
  {
   "attachments": {},
   "cell_type": "markdown",
   "metadata": {},
   "source": [
    "## <span style=\"color:darkblue\"> I. Import Libraries </span>"
   ]
  },
  {
   "cell_type": "code",
   "execution_count": 1,
   "metadata": {},
   "outputs": [],
   "source": [
    "# the \"numPy\" library is used for mathematical operations\n",
    "# the \"matplotlib\" library is for generating graphs\n",
    "# the \"pandas\" library is for manipualting datasets\n",
    "\n",
    "import numpy as np\n",
    "import matplotlib.pyplot as plt\n",
    "import pandas as pd"
   ]
  },
  {
   "attachments": {},
   "cell_type": "markdown",
   "metadata": {},
   "source": [
    "## <span style=\"color:darkblue\"> II. Importing / Exporting Datasets </span>"
   ]
  },
  {
   "attachments": {},
   "cell_type": "markdown",
   "metadata": {},
   "source": [
    "<font size = \"5\">\n",
    "\n",
    "There are many formats to store data out there.\n",
    "\n",
    "- So far we've only imported \".csv\" files\n",
    "- Also common: Excel (\".xlsx\") and Stata (\".dta\")\n",
    "- Pandas can handle all these formats! Full list:\n",
    "\n",
    "https://pandas.pydata.org/docs/reference/io.html#"
   ]
  },
  {
   "attachments": {},
   "cell_type": "markdown",
   "metadata": {},
   "source": [
    "<font size = \"5\" >\n",
    "\n",
    "Read/write from CSV"
   ]
  },
  {
   "cell_type": "code",
   "execution_count": 2,
   "metadata": {},
   "outputs": [],
   "source": [
    "# Import a CSV file (READ)\n",
    "carfeatures = pd.read_csv(\"data/features.csv\")\n",
    "\n",
    "# Save the dataset to another csv file (WRITE)\n",
    "carfeatures.to_csv(\"data/features_stored.csv\")\n"
   ]
  },
  {
   "attachments": {},
   "cell_type": "markdown",
   "metadata": {},
   "source": [
    "<font size = \"5\">\n",
    "\n",
    "Read/write from Stata (\".dta\")"
   ]
  },
  {
   "cell_type": "code",
   "execution_count": 37,
   "metadata": {},
   "outputs": [],
   "source": [
    "# Read a Stata file\n",
    "carfeatures = pd.read_stata(\"data/features.dta\")\n",
    "\n",
    "# Write a stata file\n",
    "carfeatures.to_stata(\"data/features_stored.dta\")"
   ]
  },
  {
   "attachments": {},
   "cell_type": "markdown",
   "metadata": {},
   "source": [
    "<font size = \"5\">\n",
    "\n",
    "Read/write from Excel (\".xlsx\")"
   ]
  },
  {
   "cell_type": "code",
   "execution_count": 3,
   "metadata": {},
   "outputs": [
    {
     "ename": "ImportError",
     "evalue": "Missing optional dependency 'openpyxl'.  Use pip or conda to install openpyxl.",
     "output_type": "error",
     "traceback": [
      "\u001b[0;31m---------------------------------------------------------------------------\u001b[0m",
      "\u001b[0;31mModuleNotFoundError\u001b[0m                       Traceback (most recent call last)",
      "File \u001b[0;32m/Library/Frameworks/Python.framework/Versions/3.11/lib/python3.11/site-packages/pandas/compat/_optional.py:141\u001b[0m, in \u001b[0;36mimport_optional_dependency\u001b[0;34m(name, extra, errors, min_version)\u001b[0m\n\u001b[1;32m    140\u001b[0m \u001b[39mtry\u001b[39;00m:\n\u001b[0;32m--> 141\u001b[0m     module \u001b[39m=\u001b[39m importlib\u001b[39m.\u001b[39;49mimport_module(name)\n\u001b[1;32m    142\u001b[0m \u001b[39mexcept\u001b[39;00m \u001b[39mImportError\u001b[39;00m:\n",
      "File \u001b[0;32m/Library/Frameworks/Python.framework/Versions/3.11/lib/python3.11/importlib/__init__.py:126\u001b[0m, in \u001b[0;36mimport_module\u001b[0;34m(name, package)\u001b[0m\n\u001b[1;32m    125\u001b[0m         level \u001b[39m+\u001b[39m\u001b[39m=\u001b[39m \u001b[39m1\u001b[39m\n\u001b[0;32m--> 126\u001b[0m \u001b[39mreturn\u001b[39;00m _bootstrap\u001b[39m.\u001b[39;49m_gcd_import(name[level:], package, level)\n",
      "File \u001b[0;32m<frozen importlib._bootstrap>:1206\u001b[0m, in \u001b[0;36m_gcd_import\u001b[0;34m(name, package, level)\u001b[0m\n",
      "File \u001b[0;32m<frozen importlib._bootstrap>:1178\u001b[0m, in \u001b[0;36m_find_and_load\u001b[0;34m(name, import_)\u001b[0m\n",
      "File \u001b[0;32m<frozen importlib._bootstrap>:1142\u001b[0m, in \u001b[0;36m_find_and_load_unlocked\u001b[0;34m(name, import_)\u001b[0m\n",
      "\u001b[0;31mModuleNotFoundError\u001b[0m: No module named 'openpyxl'",
      "\nDuring handling of the above exception, another exception occurred:\n",
      "\u001b[0;31mImportError\u001b[0m                               Traceback (most recent call last)",
      "Cell \u001b[0;32mIn[3], line 2\u001b[0m\n\u001b[1;32m      1\u001b[0m \u001b[39m#  Read\u001b[39;00m\n\u001b[0;32m----> 2\u001b[0m carfeatures \u001b[39m=\u001b[39m pd\u001b[39m.\u001b[39;49mread_excel(\u001b[39m\"\u001b[39;49m\u001b[39mdata/features.xlsx\u001b[39;49m\u001b[39m\"\u001b[39;49m)\n\u001b[1;32m      4\u001b[0m \u001b[39m# Write \u001b[39;00m\n\u001b[1;32m      5\u001b[0m carfeatures\u001b[39m.\u001b[39mto_excel(\u001b[39m\"\u001b[39m\u001b[39mdata/features_stored.xlsx\u001b[39m\u001b[39m\"\u001b[39m)\n",
      "File \u001b[0;32m/Library/Frameworks/Python.framework/Versions/3.11/lib/python3.11/site-packages/pandas/util/_decorators.py:211\u001b[0m, in \u001b[0;36mdeprecate_kwarg.<locals>._deprecate_kwarg.<locals>.wrapper\u001b[0;34m(*args, **kwargs)\u001b[0m\n\u001b[1;32m    209\u001b[0m     \u001b[39melse\u001b[39;00m:\n\u001b[1;32m    210\u001b[0m         kwargs[new_arg_name] \u001b[39m=\u001b[39m new_arg_value\n\u001b[0;32m--> 211\u001b[0m \u001b[39mreturn\u001b[39;00m func(\u001b[39m*\u001b[39;49margs, \u001b[39m*\u001b[39;49m\u001b[39m*\u001b[39;49mkwargs)\n",
      "File \u001b[0;32m/Library/Frameworks/Python.framework/Versions/3.11/lib/python3.11/site-packages/pandas/util/_decorators.py:331\u001b[0m, in \u001b[0;36mdeprecate_nonkeyword_arguments.<locals>.decorate.<locals>.wrapper\u001b[0;34m(*args, **kwargs)\u001b[0m\n\u001b[1;32m    325\u001b[0m \u001b[39mif\u001b[39;00m \u001b[39mlen\u001b[39m(args) \u001b[39m>\u001b[39m num_allow_args:\n\u001b[1;32m    326\u001b[0m     warnings\u001b[39m.\u001b[39mwarn(\n\u001b[1;32m    327\u001b[0m         msg\u001b[39m.\u001b[39mformat(arguments\u001b[39m=\u001b[39m_format_argument_list(allow_args)),\n\u001b[1;32m    328\u001b[0m         \u001b[39mFutureWarning\u001b[39;00m,\n\u001b[1;32m    329\u001b[0m         stacklevel\u001b[39m=\u001b[39mfind_stack_level(),\n\u001b[1;32m    330\u001b[0m     )\n\u001b[0;32m--> 331\u001b[0m \u001b[39mreturn\u001b[39;00m func(\u001b[39m*\u001b[39;49margs, \u001b[39m*\u001b[39;49m\u001b[39m*\u001b[39;49mkwargs)\n",
      "File \u001b[0;32m/Library/Frameworks/Python.framework/Versions/3.11/lib/python3.11/site-packages/pandas/io/excel/_base.py:482\u001b[0m, in \u001b[0;36mread_excel\u001b[0;34m(io, sheet_name, header, names, index_col, usecols, squeeze, dtype, engine, converters, true_values, false_values, skiprows, nrows, na_values, keep_default_na, na_filter, verbose, parse_dates, date_parser, thousands, decimal, comment, skipfooter, convert_float, mangle_dupe_cols, storage_options)\u001b[0m\n\u001b[1;32m    480\u001b[0m \u001b[39mif\u001b[39;00m \u001b[39mnot\u001b[39;00m \u001b[39misinstance\u001b[39m(io, ExcelFile):\n\u001b[1;32m    481\u001b[0m     should_close \u001b[39m=\u001b[39m \u001b[39mTrue\u001b[39;00m\n\u001b[0;32m--> 482\u001b[0m     io \u001b[39m=\u001b[39m ExcelFile(io, storage_options\u001b[39m=\u001b[39;49mstorage_options, engine\u001b[39m=\u001b[39;49mengine)\n\u001b[1;32m    483\u001b[0m \u001b[39melif\u001b[39;00m engine \u001b[39mand\u001b[39;00m engine \u001b[39m!=\u001b[39m io\u001b[39m.\u001b[39mengine:\n\u001b[1;32m    484\u001b[0m     \u001b[39mraise\u001b[39;00m \u001b[39mValueError\u001b[39;00m(\n\u001b[1;32m    485\u001b[0m         \u001b[39m\"\u001b[39m\u001b[39mEngine should not be specified when passing \u001b[39m\u001b[39m\"\u001b[39m\n\u001b[1;32m    486\u001b[0m         \u001b[39m\"\u001b[39m\u001b[39man ExcelFile - ExcelFile already has the engine set\u001b[39m\u001b[39m\"\u001b[39m\n\u001b[1;32m    487\u001b[0m     )\n",
      "File \u001b[0;32m/Library/Frameworks/Python.framework/Versions/3.11/lib/python3.11/site-packages/pandas/io/excel/_base.py:1695\u001b[0m, in \u001b[0;36mExcelFile.__init__\u001b[0;34m(self, path_or_buffer, engine, storage_options)\u001b[0m\n\u001b[1;32m   1692\u001b[0m \u001b[39mself\u001b[39m\u001b[39m.\u001b[39mengine \u001b[39m=\u001b[39m engine\n\u001b[1;32m   1693\u001b[0m \u001b[39mself\u001b[39m\u001b[39m.\u001b[39mstorage_options \u001b[39m=\u001b[39m storage_options\n\u001b[0;32m-> 1695\u001b[0m \u001b[39mself\u001b[39m\u001b[39m.\u001b[39m_reader \u001b[39m=\u001b[39m \u001b[39mself\u001b[39;49m\u001b[39m.\u001b[39;49m_engines[engine](\u001b[39mself\u001b[39;49m\u001b[39m.\u001b[39;49m_io, storage_options\u001b[39m=\u001b[39;49mstorage_options)\n",
      "File \u001b[0;32m/Library/Frameworks/Python.framework/Versions/3.11/lib/python3.11/site-packages/pandas/io/excel/_openpyxl.py:556\u001b[0m, in \u001b[0;36mOpenpyxlReader.__init__\u001b[0;34m(self, filepath_or_buffer, storage_options)\u001b[0m\n\u001b[1;32m    541\u001b[0m \u001b[39m@doc\u001b[39m(storage_options\u001b[39m=\u001b[39m_shared_docs[\u001b[39m\"\u001b[39m\u001b[39mstorage_options\u001b[39m\u001b[39m\"\u001b[39m])\n\u001b[1;32m    542\u001b[0m \u001b[39mdef\u001b[39;00m \u001b[39m__init__\u001b[39m(\n\u001b[1;32m    543\u001b[0m     \u001b[39mself\u001b[39m,\n\u001b[1;32m    544\u001b[0m     filepath_or_buffer: FilePath \u001b[39m|\u001b[39m ReadBuffer[\u001b[39mbytes\u001b[39m],\n\u001b[1;32m    545\u001b[0m     storage_options: StorageOptions \u001b[39m=\u001b[39m \u001b[39mNone\u001b[39;00m,\n\u001b[1;32m    546\u001b[0m ) \u001b[39m-\u001b[39m\u001b[39m>\u001b[39m \u001b[39mNone\u001b[39;00m:\n\u001b[1;32m    547\u001b[0m \u001b[39m    \u001b[39m\u001b[39m\"\"\"\u001b[39;00m\n\u001b[1;32m    548\u001b[0m \u001b[39m    Reader using openpyxl engine.\u001b[39;00m\n\u001b[1;32m    549\u001b[0m \n\u001b[0;32m   (...)\u001b[0m\n\u001b[1;32m    554\u001b[0m \u001b[39m    {storage_options}\u001b[39;00m\n\u001b[1;32m    555\u001b[0m \u001b[39m    \"\"\"\u001b[39;00m\n\u001b[0;32m--> 556\u001b[0m     import_optional_dependency(\u001b[39m\"\u001b[39;49m\u001b[39mopenpyxl\u001b[39;49m\u001b[39m\"\u001b[39;49m)\n\u001b[1;32m    557\u001b[0m     \u001b[39msuper\u001b[39m()\u001b[39m.\u001b[39m\u001b[39m__init__\u001b[39m(filepath_or_buffer, storage_options\u001b[39m=\u001b[39mstorage_options)\n",
      "File \u001b[0;32m/Library/Frameworks/Python.framework/Versions/3.11/lib/python3.11/site-packages/pandas/compat/_optional.py:144\u001b[0m, in \u001b[0;36mimport_optional_dependency\u001b[0;34m(name, extra, errors, min_version)\u001b[0m\n\u001b[1;32m    142\u001b[0m \u001b[39mexcept\u001b[39;00m \u001b[39mImportError\u001b[39;00m:\n\u001b[1;32m    143\u001b[0m     \u001b[39mif\u001b[39;00m errors \u001b[39m==\u001b[39m \u001b[39m\"\u001b[39m\u001b[39mraise\u001b[39m\u001b[39m\"\u001b[39m:\n\u001b[0;32m--> 144\u001b[0m         \u001b[39mraise\u001b[39;00m \u001b[39mImportError\u001b[39;00m(msg)\n\u001b[1;32m    145\u001b[0m     \u001b[39melse\u001b[39;00m:\n\u001b[1;32m    146\u001b[0m         \u001b[39mreturn\u001b[39;00m \u001b[39mNone\u001b[39;00m\n",
      "\u001b[0;31mImportError\u001b[0m: Missing optional dependency 'openpyxl'.  Use pip or conda to install openpyxl."
     ]
    }
   ],
   "source": [
    "#  Read\n",
    "carfeatures = pd.read_excel(\"data/features.xlsx\")\n",
    "\n",
    "# Write \n",
    "carfeatures.to_excel(\"data/features_stored.xlsx\")\n",
    "\n",
    "# Note: If the information is contained in a specifc sheet of the excel file\n",
    "# carfeatures = pd.read_excel(\"data/features.csv\",sheet_name = \"Sheet1\")\n"
   ]
  },
  {
   "attachments": {},
   "cell_type": "markdown",
   "metadata": {},
   "source": [
    "## <span style=\"color:darkblue\"> III. Quiz Structure </span>\n",
    "\n",
    "<font size = \"5\">\n",
    "\n",
    "The day of the quiz I will ...\n",
    "- Provide different datasets with yearly data\n",
    "- Give more specific instructions.\n",
    "- Below, you will see that type of questions that will be asked.\n",
    "- The idea is for you to apply known concepts to new data\n",
    "- You have 50 minutes to complete the assignment\n",
    "\n",
    "Questions\n",
    "\n",
    "(exact wording may change in quiz, but exercise will be very similar)\n"
   ]
  },
  {
   "attachments": {},
   "cell_type": "markdown",
   "metadata": {},
   "source": [
    "<font size = \"5\">\n",
    "\n",
    "(a) Create two normal random variables ...\n",
    "\n",
    "\n",
    "- Call them \"vec_x\" and \"vec_z\"\n",
    "- To generate each variable, use loc = 2, scale = 5, size = 1000\n",
    "- Plot a histogram of each variable\n",
    "    - Label the axes and title\n",
    "    - Each graph should have a different title\n",
    " \n",
    "To get full points, plot the histograms on a grid (See Lecture 6)"
   ]
  },
  {
   "cell_type": "code",
   "execution_count": 13,
   "metadata": {},
   "outputs": [
    {
     "data": {
      "image/png": "[encoded data removed]",
      "text/plain": [
       "<Figure size 640x480 with 1 Axes>"
      ]
     },
     "metadata": {},
     "output_type": "display_data"
    },
    {
     "data": {
      "image/png": "[encoded data removed]",
      "text/plain": [
       "<Figure size 640x480 with 1 Axes>"
      ]
     },
     "metadata": {},
     "output_type": "display_data"
    }
   ],
   "source": [
    "#Create random variables\n",
    "vec_x = np.random.normal(loc=2, scale=5, size=1000)\n",
    "vec_z = np.random.normal(loc=2, scale=5, size=1000)\n",
    "plt.hist(x=vec_x)\n",
    "plt.xlabel(\"Variable\")\n",
    "plt.ylabel(\"Frequency\")\n",
    "plt.title(\"Frequency of Vector X\")\n",
    "plt.show()\n",
    "plt.hist(x=vec_z)\n",
    "plt.xlabel(\"Variable\")\n",
    "plt.ylabel(\"Frequency\")\n",
    "plt.title(\"Frequency of Vector Z\")\n",
    "plt.show()"
   ]
  },
  {
   "attachments": {},
   "cell_type": "markdown",
   "metadata": {},
   "source": [
    "<font size = \"5\">\n",
    "\n",
    "(b) Create a new variable \"vec_y\" by the formula\n",
    "\n",
    "$ y = x^2 + 2x + 5$\n",
    "\n",
    "- Use element-by-element vector multiplicaiton (no loops)\n",
    "- Produce a scatter plot of \"vec_y\" against \"vec_x\"\n",
    "- Label the axes and the title\n",
    "- Change the color to \"red\", \"green\" or \"purple\" (you choose)\n"
   ]
  },
  {
   "cell_type": "code",
   "execution_count": 21,
   "metadata": {},
   "outputs": [
    {
     "name": "stdout",
     "output_type": "stream",
     "text": [
      "[ 87.41605177  50.4131974   30.85274254  15.52432254  53.2321675\n",
      "  19.01068573  68.50868696   5.16013446   9.42346808  22.08413913\n",
      "  11.90085868   9.65723777  19.66382635  61.57909288  21.40984067\n",
      "   7.76690494 158.3420112    5.76237521  10.36993812  48.59018429\n",
      "  43.96290727  53.53801377   5.18849671  70.91144656  55.27459655\n",
      " 102.12291147  32.09290234  76.70450531   7.94022907  19.72380309\n",
      "   4.44517371   6.39371775  41.85088653  30.58270708  62.23935369\n",
      "  20.65179595  70.22682439  82.43517796   5.98137922  21.90210692\n",
      "  33.45470991  29.15108038  90.21409073   6.22155491 111.55219649\n",
      "  10.87430396  51.44780632   4.51991049  24.32506411  46.8406245\n",
      "  37.41186409  26.9339624    4.10018356  11.44801282  32.76672734\n",
      "  11.07103155  16.07772854   4.48510533   7.92792915  32.66716279\n",
      " 140.62257503 136.88954252  23.82043724  11.40802012  20.00892937\n",
      "  35.68172119  14.80881845   8.66646343  46.66289695  71.86662586\n",
      "  31.3958993   74.67848071   7.93743627   6.33062489   5.84878465\n",
      "  51.56084112  55.89423376  60.75719185  14.75681858  60.7432184\n",
      "  50.94653061  77.27300811  13.90761345  20.59627419  40.37434155\n",
      " 142.20981793  45.65439351   4.66730764   5.09458448  22.24316067\n",
      " 144.98273072   5.45181631   6.74404669 115.34202096  33.67795947\n",
      "  64.46632529  10.3569565  148.5588607    4.10901708  55.01232901\n",
      "  44.9256347   36.54421795  25.07235117  39.53838486  38.55238136\n",
      "  14.93358065  64.34156264   5.57818296   5.09635791   5.2111775\n",
      "   4.00000174  30.05982657   5.55015716  11.16909317  18.8510161\n",
      "  20.39368839 132.52570537 115.53998356  10.35080645   4.37060064\n",
      "  22.45408062   6.48916823   4.04938056  21.76620636  20.11780121\n",
      " 179.10191737  54.85712921   6.05358251   5.16225051  42.03549248\n",
      "  41.44909566  34.26656678   7.35833667  20.82416287   7.2509786\n",
      "  25.60359488  35.85979585  75.25597006   5.90157142  22.65125827\n",
      "  19.40379406   7.39073788  88.74575338  10.76202788  42.20482155\n",
      " 112.85959314  28.96306694   4.00182982  90.30039872   6.25625744\n",
      "   7.07960991  21.23189005  56.50216229   9.74664529 239.32853495\n",
      "  76.09386     82.280613   102.9854674    5.75873735  52.65881648\n",
      "  12.71008901   4.07369964   5.26433614  85.60939517   5.3263207\n",
      "  55.89810766   4.6394941   33.03255721   8.41252056  36.83223149\n",
      "  15.69982366   8.53768165  14.863263    10.8072921   24.53706814\n",
      "   7.51978664   9.60122959   9.5962419   35.1618913   58.31960103\n",
      "  57.78822171   7.6193313    9.42159013  12.06329969  91.22871499\n",
      "  78.68879395   7.2003551   17.67959822  12.8983957   80.3804998\n",
      "   6.99062547  32.45935175  99.99511868  78.9500351   48.11045493\n",
      "   7.26033647  29.01886184  20.48770724   4.86566154  79.82479525\n",
      "  98.32297206  15.61415597  16.83550477  93.06820164  12.76866289\n",
      "   5.09662834  27.13132403  30.90025231  12.87733836   5.05411534\n",
      "  87.25709089 107.77275395  20.56126353  35.96294386   6.20759233\n",
      " 146.92749479  41.00269046  10.43453296 184.51639546  21.14409771\n",
      "   6.36146517   4.00456176   4.77037744  13.05432807  50.64768857\n",
      "  19.07811842  30.07812069   4.27082941 206.45319574   4.00057716\n",
      "   4.21721246  45.23600212  29.51440546  36.43452268  66.60710709\n",
      "  53.82074174   9.72102546  90.84141757  77.59180325 109.39649923\n",
      "   4.15822417  54.03393539   4.50682962  33.80721849   7.13609836\n",
      "  11.83417995  29.1685705    4.35281106  52.41976872   4.06579791\n",
      "  76.04990603   5.38599178  28.24195818   9.25245475 106.08662744\n",
      "  23.98406118   5.48939297  10.03029269  57.81068048  18.21872355\n",
      "   5.36546523  96.4412958   26.46979466  37.07906685   9.97639342\n",
      "  27.98380241  16.26477973   4.17976195   4.4848354   75.55290969\n",
      "  24.12495559  18.87550746 127.60178526  17.61672546  27.59693533\n",
      "  14.47205724  51.67237138  32.32350624   4.25202907  84.64584434\n",
      "   4.05888399  33.69457108  50.10484609  98.77741078  87.91660759\n",
      "  19.36697657   4.10206392   5.73280897   4.32464654  23.1621867\n",
      "   6.19083827 114.7841444    6.21476799  23.65366118   4.4808409\n",
      "  11.43772363 119.39690537 130.42755834  86.47842041  21.69967558\n",
      "  45.73602855   5.40574628  28.15448527   5.16546227  81.08940916\n",
      "  12.97725227   8.32726485  69.04348429   4.1505843   31.82801601\n",
      "  60.57094806  25.62528623  37.51732422   4.94374814   5.34106704\n",
      "   5.74599346  18.26732322  32.69708978  16.6286873   26.69028897\n",
      "  35.8521784    4.35634946  11.63683064  17.94203027   7.01599917\n",
      " 203.18448814  14.61475617  35.01104732   6.84759731  27.19463425\n",
      "   4.00187365  34.83540312  44.18698281  13.40604874  30.75876443\n",
      "  35.62160971  19.265498    68.17809819  17.26294773  32.64249286\n",
      "  96.34918446   9.58834704  53.18751182  10.11085958  12.18496744\n",
      "  27.9097567    5.76149377   4.66160751   9.09130526   4.09838911\n",
      "  68.57289456   4.3889072    8.99369147   6.02141629   5.51110891\n",
      "   4.85680606  32.05908112  26.77160908  48.66905708  50.13686624\n",
      "  42.14908958  57.47564943  12.80228674   9.8478328   96.42067987\n",
      "  12.60186653  19.22517253  24.6236737   18.11175801  44.56623988\n",
      "  12.2389358    6.33796342 149.53021971  30.28433452 179.71592714\n",
      "  14.40726049  32.4233222   24.4903653    5.57733491 104.55453364\n",
      "  14.32378416   9.89365273   4.00411256   6.97215031  12.99850395\n",
      "   4.32139539  44.41230438   8.6131701   61.09105971  41.29828247\n",
      "  22.79255477  63.04097472  12.38646535  84.83959981  12.62960996\n",
      " 147.82819626  32.13597186  11.42634301  51.06888933  39.10400234\n",
      "  85.86841942  36.48425775  24.82971894  51.85857882   5.42821261\n",
      "  80.11599341   8.10261328   5.97476002   6.55210649  83.68907274\n",
      "   4.58941809  84.33601684 123.81711365   6.94613313   9.49905369\n",
      "  27.11712859   4.4915039   52.2880231   11.00790328   4.34659326\n",
      " 189.48718534  40.1726971    4.4985758  196.31661595  66.32754124\n",
      "  19.89394367  52.23070982   6.58969411   8.16548326  43.41333356\n",
      "  46.02995407  18.26299019   5.6584773    4.13209312  47.11630512\n",
      "   4.48215526 126.33106997 101.3912877   33.95471252 100.24017223\n",
      "  19.96698684  64.91664667  88.93855063  37.5173497  222.06275946\n",
      "  12.36435135   4.34365112  16.98902432  49.17428482  13.60573875\n",
      "  14.91656035  54.79188019   6.83987438  10.29093276  66.68500028\n",
      "   4.43394585  27.23017188   5.37273468 164.12197195  10.57324841\n",
      "  21.83933542  11.17375077  23.41460972   5.08265916  69.67168786\n",
      "   8.03758289   6.43193167  15.1529097   40.73325037   8.62181846\n",
      "  27.18122858   5.2307263   17.42758302  11.32382561  43.39438329\n",
      "  15.84952088  32.63270876  60.09251346  28.3157096    4.55907989\n",
      "   6.81385736   4.23000865   4.05815098  50.54363262   4.16419726\n",
      "  28.84726977  11.97702849  28.38475205  80.77293206  49.36042319\n",
      "  64.25204623   4.01019862   4.77309491  42.09246928 119.41108946\n",
      "   5.09305361  52.07625785   4.63335219   7.47896574  10.36047038\n",
      " 176.71599885   6.40802802  17.7838249    8.17853902  13.96631262\n",
      "   4.62389242   4.22240777  14.91280304  36.59446752  88.96089327\n",
      "  14.51385699  44.5164042    4.73345358   4.16157015  12.18411726\n",
      "  18.19269663  54.6062278   27.39252004  33.62873942   4.44334532\n",
      " 139.95327527 349.86134681   4.83855207   4.0328563    4.55361567\n",
      "  20.21072188  50.67888824  41.94730116  23.23157715  47.02159843\n",
      "  14.62645479  18.55093647  35.03145942  47.89416692  16.63863791\n",
      "   6.85122263   4.06462102   7.79444896  55.07856698  18.75454642\n",
      "  35.38049836  30.28249123  22.18135891  20.16899841   5.45483301\n",
      " 109.5456703   21.4670133   72.83561765 133.70884453 114.60879369\n",
      "  13.58414601  52.24395274  28.90036487   7.83607597  11.83456185\n",
      " 136.76317165  59.03729057  14.56764797  16.10623361  99.23744033\n",
      "   8.82119147  60.44221883  70.82105901  17.95450989   4.56855563\n",
      "   5.05291063 109.69475386  29.89107391  40.14642939  32.26579545\n",
      "   8.22841636  85.19735322   5.00974123   5.62952346  77.05950192\n",
      "  21.80957347   8.28244045  14.35371296   4.66034442  93.67610258\n",
      "   4.71300805   4.66873473  10.68072709  40.00460688   5.51374155\n",
      "   7.77872488 225.07789743  39.57157801  18.47754611  20.47515793\n",
      "  12.77629649   8.14400798  23.48179249  15.68960839   4.00618875\n",
      "   4.2304017   43.16509779  48.97440931   4.25491117   4.8941748\n",
      "  23.36969885 123.01359728 106.88965882   4.21401363   8.29701989\n",
      "   4.95464152  53.09079668   4.01393159  30.01123454  12.30906324\n",
      "  12.62885945  36.03966758  61.53523953  36.71052326  44.0273624\n",
      "  11.87233519   4.33748083  14.02454841  14.71475782  37.12771796\n",
      "   8.45955264  24.23959191  32.17332446   6.83808922   4.18655655\n",
      " 133.42855705   6.10238954   9.98345927  46.82128738  24.61653116\n",
      "  45.26825854  36.34662079  29.42670712 133.53768566  15.0120575\n",
      "  39.41819355   7.75443747  24.38952239  15.73945151   7.09416162\n",
      " 123.16141124   5.36565187   5.42193388   5.21558422  20.69769292\n",
      "  97.13213165  25.77215275   5.48611801   4.9039986    5.19736096\n",
      "  10.33830529   4.02019105   4.10282253  17.67474585   7.28208102\n",
      "   4.37630366   6.55381068   5.66223461  70.41702392  10.26955002\n",
      "  33.37580776 178.43581166  61.18213912 155.23262033   9.2471053\n",
      "   5.87957023  38.54274565  18.32878887   6.48651267  29.20501866\n",
      "  13.75349071 134.43845514  41.28726925  10.54374753  40.66367242\n",
      "  33.39094256  37.694743    15.89258863  32.87749641   4.24486932\n",
      "  74.63006431  30.09687385  26.10592955  15.01776217  34.54432213\n",
      "  12.04358639   9.59989718  46.76540596  31.07759469   6.88350616\n",
      "  10.51372938   5.40380721   4.56952283   6.60198666  15.75286133\n",
      "   4.20607448   9.06240147  56.16208325  19.05885287  12.36190937\n",
      "   4.03495519   4.18648199  13.3025849    6.48895866   6.71029826\n",
      "  18.79493078 156.2181373    4.88787615   4.84994901  57.41168454\n",
      "  25.29451336   8.92429727   4.11543953  37.68720309  72.34779713\n",
      "   4.90014098   4.41341721   8.88645927 102.01389299  37.6048962\n",
      "  45.64178306  65.3122572  104.16019025  64.65563046  22.95214837\n",
      " 133.62630244  11.08787604   4.25863447  96.36531508  88.41844221\n",
      "   6.30505092  22.89027225  39.12477101 200.54061401  17.2807451\n",
      "  20.77715563  12.76946312  29.20378456   5.3331773   15.10863448\n",
      "  33.84481327  18.3713096   20.49258719   5.5855929    6.52646696\n",
      "  32.95108102   4.98138452 254.05239216  19.12518628 252.80006667\n",
      " 164.99482744  27.42724851   4.0284503    4.36507966  40.18732595\n",
      "   4.01004867  19.86801337   6.06577973  84.4166437   54.6948585\n",
      "  68.63478286   6.36030617   6.26186758  25.05682817  31.79820175\n",
      "  20.05606235   4.03494614 114.47010499  21.16843023   4.44248113\n",
      "  22.29175605  45.54198525  51.72770444   4.27343342   5.62443063\n",
      "   4.02856407  14.52651469 120.3369921    4.00000028   4.08261677\n",
      "  41.96052346  67.10142595  13.3676551   36.33750079   5.0167768\n",
      "   8.633805     4.5912243   41.85635337  33.79345854   4.73440459\n",
      "   5.69565331 140.57625769  26.27961332  42.2226549    4.15724871\n",
      "   4.44361032  10.01397547  28.5999569   17.24507367   8.65660455\n",
      "  92.9729844    7.27369998  14.04105675   6.57728578   8.01877562\n",
      "  13.14116556  68.42548727  20.28489604  37.73395552  53.89210519\n",
      "   4.1515625   14.58604524   6.01470711   8.08173735  18.85547969\n",
      "  18.84867493  43.78967434 102.06304715  55.55609528  40.42040629\n",
      "  79.12245844   6.13504826   5.69450293  37.49656134   4.39456918\n",
      "   6.09735105  39.63001039  48.11165223  19.46516631  30.34960692\n",
      "  53.63150161  38.98181359  43.48319439   8.63333839   9.16042981\n",
      "   8.46517588  20.14849261  12.36341622  59.54979443   8.64841023\n",
      "  19.5521046   22.72742927   4.01778328   4.16077557  11.81144429\n",
      "  60.37165706  26.87095593   6.32985568  30.23984892  12.16358164\n",
      "  53.20297607   4.1028608   96.08014759  60.75887202  13.30089959\n",
      "  27.59151535   4.03238066 170.52601151  54.66039374  20.69869197\n",
      "   9.75906973  22.78294911  14.28753447  30.67715557  18.5229161\n",
      "  37.95253142   7.98463834   6.70666231  78.9442865    4.36831337\n",
      "   9.11627661  21.74023475  33.80927704  20.65821915   5.80127689\n",
      " 168.02808122 134.4597895  105.595496    15.9210968    7.97744729\n",
      "  30.9797099    9.05436252   5.14852043   8.29414823  49.89203432\n",
      "  68.31983142  22.94452052  12.0602998    4.14905188  96.36393944\n",
      "  52.05940632  44.43236582  36.60629175   7.61302831  43.00381212\n",
      "  85.750192     4.89319809  29.31345859   5.9522057   12.87412233\n",
      "  90.89764285  15.5942752   15.02866481 122.84647866  84.61658194\n",
      "   4.07466077  75.16986997   8.66750505  32.84466712 131.33941397\n",
      "  22.94091971  14.59291045   4.68453772  32.98296269  13.27597782\n",
      "  13.06923823   4.09852755   7.0954351   25.6574101   92.3925174\n",
      "   4.18749252  13.57327136  10.70788195  11.13014994  23.75127947\n",
      "   7.96597549  20.14049977   5.24170734  79.82187153  17.13728186\n",
      "  55.92911706   4.49566216  18.60263413   4.24840633  11.9864887\n",
      "  98.53213495  42.89263712 124.51956881   5.22645153   5.12149691\n",
      "  44.36489256   6.17859038 142.97326752   6.60289674   6.67716908\n",
      "   5.99981685   8.01375709 131.10682752  16.99508926   7.99336962\n",
      "  31.14002727  15.25977985 100.39017343  72.76562174   4.96199361\n",
      "  74.87989719   5.61717683  25.6594937    7.17563724  60.61206594\n",
      "  26.5346964    7.72158466  26.03478172  42.62410076  12.61414322\n",
      " 195.62219711   8.2735816   72.26823038  17.73773784 139.59224726\n",
      "  23.12681416  14.02043045 152.95927572   4.15845251   5.46228042\n",
      "  14.22033446   7.11700269   5.19272585   7.84285782   4.02719254\n",
      "  64.29736508  15.12623451   5.46865197  16.2635929   55.03271281\n",
      "  10.95335772 157.6310683    9.38789529  56.423848     5.6031667\n",
      "  47.27159631   6.2981737   52.88915596   4.06546107   7.72328472\n",
      "   5.00106557 167.84429345  65.79502069   4.08668669  12.00658694]\n"
     ]
    },
    {
     "data": {
      "text/plain": [
       "Text(0.5, 1.0, 'Vector Y against Vector X')"
      ]
     },
     "execution_count": 21,
     "metadata": {},
     "output_type": "execute_result"
    },
    {
     "data": {
      "image/png": "[encoded data removed]",
      "text/plain": [
       "<Figure size 640x480 with 1 Axes>"
      ]
     },
     "metadata": {},
     "output_type": "display_data"
    }
   ],
   "source": [
    "vec_y = (vec_x**2 + 2*vec_x + 5)\n",
    "print(vec_y)\n",
    "plt.scatter(x=vec_y, y=vec_z, color = 'red')\n",
    "plt.xlabel(\"Vector X\")\n",
    "plt.ylabel(\"Vector Y\")\n",
    "plt.title(\"Vector Y against Vector X\")"
   ]
  },
  {
   "attachments": {},
   "cell_type": "markdown",
   "metadata": {},
   "source": [
    "<font size = \"5\">\n",
    "\n",
    "(c) Creates two lists with ...\n",
    "\n",
    "- The names of the datasets\n",
    "- The years of the datasets (type manually based on the dataset names)"
   ]
  },
  {
   "cell_type": "code",
   "execution_count": null,
   "metadata": {},
   "outputs": [],
   "source": [
    "list_names = []\n",
    "list_years = []"
   ]
  },
  {
   "attachments": {},
   "cell_type": "markdown",
   "metadata": {},
   "source": [
    "<font size = \"5\">\n",
    "\n",
    "(d) Create a loop that ...\n",
    "\n",
    "\n",
    "- Goes over the list of years\n",
    "- If the year $\\ge$ 2010, print the message\n",
    "\n",
    "$\\qquad$ \"This dataset contains information on or after 2010.\n",
    "\n",
    "- If the year $<$ 2010, print the message\n",
    "\n",
    "$\\qquad$ \"This dataset contains information before 2010\""
   ]
  },
  {
   "attachments": {},
   "cell_type": "markdown",
   "metadata": {},
   "source": [
    "<font size = \"5\">\n",
    "\n",
    "(e) Create a for loop that ...\n",
    "\n",
    "- Reads multiple \".csv\" files and\n",
    "- Converts them to \".xlsx\" files\n",
    "- Note: Make sure to know how to read/write in subfolders\n",
    "\n",
    "Hint: Create a new list with the \".xslx\" names and use a for loop with numbering"
   ]
  },
  {
   "attachments": {},
   "cell_type": "markdown",
   "metadata": {},
   "source": [
    "<font size = \"5\">\n",
    "\n",
    "(f) Create a loop that ...\n",
    "\n",
    "- Reads multiple \".csv\" files\n",
    "- Creates a numeric vector by \n",
    "    - Adding/Subtracting/Mutiplying/Diving two or more variables \n",
    "- Plots a histogram of the transformed variable\n",
    "    - Numbers the figures\n",
    "    - Labels the axes\n",
    "    - Labels the title"
   ]
  }
 ],
 "metadata": {
  "kernelspec": {
   "display_name": "Python 3",
   "language": "python",
   "name": "python3"
  },
  "language_info": {
   "codemirror_mode": {
    "name": "ipython",
    "version": 3
   },
   "file_extension": ".py",
   "mimetype": "text/x-python",
   "name": "python",
   "nbconvert_exporter": "python",
   "pygments_lexer": "ipython3",
   "version": "3.11.1 (v3.11.1:a7a450f84a, Dec  6 2022, 15:24:06) [Clang 13.0.0 (clang-1300.0.29.30)]"
  },
  "orig_nbformat": 4,
  "vscode": {
   "interpreter": {
    "hash": "aee8b7b246df8f9039afb4144a1f6fd8d2ca17a180786b69acc140d282b71a49"
   }
  }
 },
 "nbformat": 4,
 "nbformat_minor": 2
}
